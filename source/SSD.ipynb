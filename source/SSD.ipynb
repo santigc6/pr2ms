{
 "cells": [
  {
   "cell_type": "code",
   "execution_count": 118,
   "metadata": {},
   "outputs": [],
   "source": [
    "import numpy as np\n",
    "\n",
    "distrib = np.loadtxt(\"E2.fallos.txt\")\n",
    "mu = distrib.mean()\n",
    "sigma = distrib.var()\n",
    "x1 = (0, 0.55)\n",
    "x2 = (1000, 1.65)\n",
    "slope = (x2[1] - x1[1]) / (x2[0] - x1[0])\n",
    "b = x1[1] - slope * x1[1]\n",
    "\n",
    "def ratio(x):\n",
    "    return slope * x + b"
   ]
  },
  {
   "cell_type": "code",
   "execution_count": 148,
   "metadata": {},
   "outputs": [],
   "source": [
    "class Machine():\n",
    "    def __init__(self, broken=False, working=True):\n",
    "        self.break_time = self.get_break_time(0)\n",
    "\n",
    "    def get_break_time(self, now):\n",
    "        return np.random.normal(mu, sigma) * 100 + now\n",
    "\n",
    "    def set_new_break_time(self, now):\n",
    "        self.break_time = self.get_break_time(now)\n",
    "\n",
    "\n",
    "class Repairman():\n",
    "    def __init__(self):\n",
    "        self.end_repair_time = self.get_repair_time(0)\n",
    "\n",
    "    def get_repair_time(self, now):\n",
    "        maq_frac_hora = np.random.exponential(ratio(now / 100)) * 100\n",
    "        return maq_frac_hora + now\n",
    "\n",
    "    def set_repair_time(self, now):\n",
    "        self.end_repair_time = self.get_repair_time(now)\n",
    "\n",
    "\n",
    "def simulate():\n",
    "    working = [Machine() for i in range(10)]\n",
    "    waiting = [Machine() for i in range(4)]\n",
    "    repairmen = [Repairman() for i in range(3)]\n",
    "    repairmen_working  = []\n",
    "    waiting_repair = []\n",
    "    working_time = 0\n",
    "    for i in range(100000):\n",
    "        for j, machine in enumerate(working):\n",
    "            if machine.break_time == i:\n",
    "                waiting_repair.append(machine)\n",
    "                try:\n",
    "                    new_worker =  waiting.pop()\n",
    "                    new_worker.set_new_break_time(i)\n",
    "                    working[j] = new_worker\n",
    "                except IndexError:\n",
    "                    working[j] = None\n",
    "\n",
    "        removers = []\n",
    "        for j, repairman in enumerate(repairmen):\n",
    "            if waiting_repair:\n",
    "                repairman.set_repair_time(now)\n",
    "                repairmen_working.append(repairman)\n",
    "                repairing.append(waiting_repair.pop())\n",
    "                removers.append(j)\n",
    "        repairmen = [rep for j, rep in enumerate(repairmen) if j not in removers]\n",
    "\n",
    "        removers = []\n",
    "        for j, repairman in enumerate(repairmen_working):\n",
    "            if repairman.end_time == time:\n",
    "                try:\n",
    "                    waiting.append(waiting_repair.pop())\n",
    "                except IndexError:\n",
    "                    repairmen.append(repairman)\n",
    "                    removers.append(j)\n",
    "                    continue\n",
    "        repairmen_working = [rep for j, rep in enumerate(repairmen_working) if j not in removers]\n",
    "\n",
    "        if None in working and waiting:\n",
    "            for k in range(sum(x is None for x in working)):\n",
    "                try:\n",
    "                    working.append(waiting.pop())\n",
    "                    working.remove(None)\n",
    "                except IndexError:\n",
    "                    break\n",
    "        if None not in working:\n",
    "            working_time += 1\n",
    "    return working_time"
   ]
  },
  {
   "cell_type": "code",
   "execution_count": 154,
   "metadata": {},
   "outputs": [
    {
     "data": {
      "text/plain": [
       "100000"
      ]
     },
     "execution_count": 154,
     "metadata": {},
     "output_type": "execute_result"
    }
   ],
   "source": [
    "simulate()"
   ]
  },
  {
   "cell_type": "markdown",
   "metadata": {},
   "source": [
    "Como podemos ver hay bugs, pero bueno, eso para mañana."
   ]
  }
 ],
 "metadata": {
  "kernelspec": {
   "display_name": "Python 3",
   "language": "python",
   "name": "python3"
  },
  "language_info": {
   "codemirror_mode": {
    "name": "ipython",
    "version": 3
   },
   "file_extension": ".py",
   "mimetype": "text/x-python",
   "name": "python",
   "nbconvert_exporter": "python",
   "pygments_lexer": "ipython3",
   "version": "3.8.5"
  }
 },
 "nbformat": 4,
 "nbformat_minor": 4
}

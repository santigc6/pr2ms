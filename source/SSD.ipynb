{
 "cells": [
  {
   "cell_type": "code",
   "execution_count": 1,
   "metadata": {},
   "outputs": [],
   "source": [
    "import numpy as np\n",
    "import math\n",
    "\n",
    "distrib = np.loadtxt(\"E2.fallos.txt\")\n",
    "mu = distrib.mean()\n",
    "sigma = distrib.var()\n",
    "x1 = (0, 0.55)\n",
    "x2 = (1000, 1.65)\n",
    "slope = (x2[1] - x1[1]) / (x2[0] - x1[0])\n",
    "b = x1[1] - slope * x1[1]\n",
    "\n",
    "def ratio(x):\n",
    "    return slope * x + b\n",
    "\n",
    "def truncate(number, digits) -> float:\n",
    "    stepper = 10.0 ** digits\n",
    "    return math.trunc(stepper * number) / stepper\n"
   ]
  },
  {
   "cell_type": "code",
   "execution_count": 2,
   "metadata": {},
   "outputs": [],
   "source": [
    "class Machine():\n",
    "    def __init__(self, broken=False, working=True):\n",
    "        self.break_time = self.get_break_time(0)\n",
    "\n",
    "    def get_break_time(self, now):\n",
    "        return math.trunc(np.random.normal(mu, sigma) * 100 + now)\n",
    "\n",
    "    def set_new_break_time(self, now):\n",
    "        self.break_time = self.get_break_time(now)\n",
    "\n",
    "\n",
    "class Repairman():\n",
    "    def __init__(self):\n",
    "        self.end_repair_time = self.get_repair_time(0)\n",
    "\n",
    "    def get_repair_time(self, now):\n",
    "        maq_frac_hora = np.random.exponential(ratio(now / 100)) * 100\n",
    "        return math.trunc(maq_frac_hora + now)\n",
    "\n",
    "    def set_repair_time(self, now):\n",
    "        self.end_repair_time = self.get_repair_time(now)\n",
    "\n",
    "\n",
    "def simulate():\n",
    "    working = [Machine() for i in range(10)]\n",
    "    waiting = [Machine() for i in range(4)]\n",
    "    repairmen = [Repairman() for i in range(3)]\n",
    "    repairmen_working  = []\n",
    "    waiting_repair = []\n",
    "    repairing = []\n",
    "    working_time = 0\n",
    "    for time in range(100000):\n",
    "        for i, machine in enumerate(working):\n",
    "            if machine and machine.break_time == time:\n",
    "                waiting_repair.append(machine)\n",
    "                try:\n",
    "                    new_worker =  waiting.pop()\n",
    "                    new_worker.set_new_break_time(time)\n",
    "                    working[i] = new_worker\n",
    "                except IndexError:\n",
    "                    working[i] = None\n",
    "\n",
    "        removers = []\n",
    "        for i, repairman in enumerate(repairmen):\n",
    "            if waiting_repair:\n",
    "                repairman.set_repair_time(time)\n",
    "                repairmen_working.append(repairman)\n",
    "                repairing.append(waiting_repair.pop())\n",
    "                removers.append(i)\n",
    "        repairmen = [rep for i, rep in enumerate(repairmen) if i not in removers]\n",
    "\n",
    "        removers = []\n",
    "        for i, repairman in enumerate(repairmen_working):\n",
    "            if repairman.end_repair_time == time:\n",
    "                try:\n",
    "                    waiting.append(waiting_repair.pop())\n",
    "                except IndexError:\n",
    "                    repairmen.append(repairman)\n",
    "                    removers.append(i)\n",
    "                    continue\n",
    "        repairmen_working = [rep for i, rep in enumerate(repairmen_working) if i not in removers]\n",
    "\n",
    "        if None in working and waiting:\n",
    "            for _ in range(sum(x is None for x in working)):\n",
    "                try:\n",
    "                    working.append(waiting.pop())\n",
    "                    working.remove(None)\n",
    "                except IndexError:\n",
    "                    break\n",
    "        if None not in working:\n",
    "            working_time += 1\n",
    "    return working_time"
   ]
  },
  {
   "cell_type": "code",
   "execution_count": 8,
   "metadata": {},
   "outputs": [
    {
     "data": {
      "text/plain": [
       "280"
      ]
     },
     "execution_count": 8,
     "metadata": {},
     "output_type": "execute_result"
    }
   ],
   "source": [
    "simulate()"
   ]
  },
  {
   "cell_type": "code",
   "execution_count": 11,
   "metadata": {},
   "outputs": [
    {
     "data": {
      "text/plain": [
       "278.79"
      ]
     },
     "execution_count": 11,
     "metadata": {},
     "output_type": "execute_result"
    }
   ],
   "source": [
    "suma = 0\n",
    "for _ in range(100):\n",
    "    suma += simulate()\n",
    "suma / 100"
   ]
  },
  {
   "cell_type": "markdown",
   "metadata": {},
   "source": [
    "De media está funcionando 2.7 horas de cada 1000. Ni de coña, algo está mal."
   ]
  }
 ],
 "metadata": {
  "kernelspec": {
   "display_name": "Python 3",
   "language": "python",
   "name": "python3"
  },
  "language_info": {
   "codemirror_mode": {
    "name": "ipython",
    "version": 3
   },
   "file_extension": ".py",
   "mimetype": "text/x-python",
   "name": "python",
   "nbconvert_exporter": "python",
   "pygments_lexer": "ipython3",
   "version": "3.8.5"
  }
 },
 "nbformat": 4,
 "nbformat_minor": 4
}

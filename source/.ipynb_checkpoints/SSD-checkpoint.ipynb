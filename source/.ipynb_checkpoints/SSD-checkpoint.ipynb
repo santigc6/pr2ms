{
 "cells": [
  {
   "cell_type": "code",
   "execution_count": 123,
   "metadata": {},
   "outputs": [],
   "source": [
    "nSims=100\n",
    "itersSim=100000\n",
    "nWorkingMachines=10\n",
    "nRepairmen=3\n",
    "nWaitingMachines=4"
   ]
  },
  {
   "cell_type": "code",
   "execution_count": 124,
   "metadata": {},
   "outputs": [],
   "source": [
    "import numpy as np\n",
    "import math\n",
    "\n",
    "distrib = np.loadtxt(\"E2.fallos.txt\")\n",
    "mu = distrib.mean()\n",
    "sigmaCuad = distrib.var()\n",
    "sigma = distrib.std()\n",
    "\n",
    "x1 = (0, 0.55)\n",
    "x2 = (1000, 1.65)\n",
    "slope = (x2[1] - x1[1]) / (x2[0] - x1[0])\n",
    "b = x1[1]*(1 - slope) # It is x[1] since l(x) = ax + b and l(0)=x[1]\n",
    "\n",
    "# l(x) = ax + b\n",
    "def ratio(x):\n",
    "    return slope * x + b\n",
    "\n",
    "def truncate(number, digits) -> float:\n",
    "    stepper = 10.0 ** digits\n",
    "    return math.trunc(stepper * number) / stepper\n"
   ]
  },
  {
   "cell_type": "code",
   "execution_count": 125,
   "metadata": {},
   "outputs": [],
   "source": [
    "class Machine():\n",
    "    def __init__(self, broken=False, working=True):\n",
    "        self.break_time = self.get_break_time(0)\n",
    "\n",
    "    def get_break_time(self, now):\n",
    "        return math.trunc(np.random.normal(mu, sigma) * 100 + now)\n",
    "\n",
    "    def set_new_break_time(self, now):\n",
    "        self.break_time = self.get_break_time(now)\n",
    "\n",
    "\n",
    "class Repairman():\n",
    "    def __init__(self):\n",
    "        self.end_repair_time = self.get_repair_time(0)\n",
    "\n",
    "    def get_repair_time(self, now):\n",
    "        lambdaParam = ratio(now / 100)\n",
    "        maq_frac_hora = np.random.exponential(1/lambdaParam) * 100\n",
    "        return math.trunc(maq_frac_hora + now)\n",
    "\n",
    "    def set_repair_time(self, now, machine):\n",
    "        self.end_repair_time = self.get_repair_time(now)\n",
    "        self.repairing_machine = machine"
   ]
  },
  {
   "cell_type": "code",
   "execution_count": 126,
   "metadata": {},
   "outputs": [],
   "source": [
    "def simulate():\n",
    "    working = [Machine() for i in range(nWorkingMachines)]\n",
    "    waiting = [Machine() for i in range(nWaitingMachines)]\n",
    "    repairmen = [Repairman() for i in range(nRepairmen)]\n",
    "    repairmen_working  = []\n",
    "    waiting_repair = []\n",
    "    repairing = []\n",
    "    working_time = 0\n",
    "    \n",
    "    for time in range(itersSim):\n",
    "        for i, machine in enumerate(working):\n",
    "            if machine and machine.break_time == time:\n",
    "                waiting_repair.append(machine)\n",
    "                try:\n",
    "                    new_machine =  waiting.pop(0) # First machine in the queue\n",
    "                    new_machine.set_new_break_time(time)\n",
    "                    working[i] = new_machine\n",
    "                except IndexError:\n",
    "                    working[i] = None\n",
    "\n",
    "        removers = []\n",
    "        for i, repairman in enumerate(repairmen):\n",
    "            if waiting_repair:\n",
    "                machine = waiting_repair.pop(0)\n",
    "                repairman.set_repair_time(time, machine)\n",
    "                repairmen_working.append(repairman)\n",
    "                repairing.append(machine)\n",
    "                removers.append(i)\n",
    "        repairmen = [rep for i, rep in enumerate(repairmen) if i not in removers]\n",
    "\n",
    "        removers = []\n",
    "        for i, repairman in enumerate(repairmen_working):\n",
    "            if repairman.end_repair_time == time:\n",
    "                waiting.append(repairing.pop(repairing.index(repairman.repairing_machine)))\n",
    "                repairmen.append(repairman)\n",
    "                removers.append(i)\n",
    "        repairmen_working = [rep for i, rep in enumerate(repairmen_working) if i not in removers]\n",
    "\n",
    "        if None in working and waiting:\n",
    "            for _ in range(sum(x is None for x in working)):\n",
    "                try:\n",
    "                    working.append(waiting.pop(0))\n",
    "                    working.remove(None)\n",
    "                except IndexError:\n",
    "                    break\n",
    "        if None not in working:\n",
    "            working_time += 1\n",
    "    return working_time"
   ]
  },
  {
   "cell_type": "code",
   "execution_count": 127,
   "metadata": {},
   "outputs": [
    {
     "data": {
      "text/plain": [
       "99138"
      ]
     },
     "execution_count": 127,
     "metadata": {},
     "output_type": "execute_result"
    }
   ],
   "source": [
    "simulate()"
   ]
  },
  {
   "cell_type": "code",
   "execution_count": 128,
   "metadata": {
    "scrolled": true
   },
   "outputs": [
    {
     "data": {
      "image/png": "[encoded data removed]",
      "text/plain": [
       "<Figure size 432x288 with 1 Axes>"
      ]
     },
     "metadata": {
      "needs_background": "light"
     },
     "output_type": "display_data"
    },
    {
     "name": "stdout",
     "output_type": "stream",
     "text": [
      "Media: 99407.37\n",
      "Varianza: 30203.245555555557\n"
     ]
    }
   ],
   "source": [
    "import matplotlib.pyplot as plt\n",
    "from statistics import mean, variance\n",
    "\n",
    "simulations = [simulate() for i in range(nSims)]\n",
    "\n",
    "plt.hist(simulations, edgecolor = 'black', linewidth=1)\n",
    "plt.show()\n",
    "\n",
    "print(\"Media:\", mean(simulations))\n",
    "print(\"Varianza:\", variance(simulations))"
   ]
  },
  {
   "cell_type": "code",
   "execution_count": null,
   "metadata": {},
   "outputs": [],
   "source": []
  }
 ],
 "metadata": {
  "kernelspec": {
   "display_name": "Python 3",
   "language": "python",
   "name": "python3"
  },
  "language_info": {
   "codemirror_mode": {
    "name": "ipython",
    "version": 3
   },
   "file_extension": ".py",
   "mimetype": "text/x-python",
   "name": "python",
   "nbconvert_exporter": "python",
   "pygments_lexer": "ipython3",
   "version": "3.7.3"
  }
 },
 "nbformat": 4,
 "nbformat_minor": 4
}

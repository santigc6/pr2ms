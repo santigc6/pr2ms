{
 "cells": [
  {
   "cell_type": "code",
   "execution_count": 4,
   "metadata": {},
   "outputs": [],
   "source": [
    "from main import simulate"
   ]
  },
  {
   "cell_type": "code",
   "execution_count": null,
   "metadata": {
    "scrolled": true
   },
   "outputs": [],
   "source": [
    "n_sims = 1000\n",
    "working_t = []\n",
    "all_rep_working_t = []\n",
    "for _ in range(n_sims):\n",
    "    working_time, all_repairmen_working_time = simulate()\n",
    "    working_t.append(working_time)\n",
    "    all_rep_working_t.append(all_repairmen_working_time)"
   ]
  },
  {
   "cell_type": "code",
   "execution_count": null,
   "metadata": {},
   "outputs": [],
   "source": [
    "from statistics import mean, variance\n",
    "\n",
    "mean_wt = mean(working_t)\n",
    "var_wt = variance(working_t)\n",
    "print(\"Media tiempo funcionando:\", mean_wt)\n",
    "print(\"Varianza tiempo funcionando:\", var_wt)\n",
    "\n",
    "mean_wt_orig = mean_wt\n",
    "\n",
    "mean_rt = mean(all_rep_working_t)\n",
    "var_rt = variance(all_rep_working_t)\n",
    "print(\"Media tiempo trabajadores a la vez:\", mean_rt)\n",
    "print(\"Varianza tiempo trabajadores a la vez:\", var_rt)"
   ]
  },
  {
   "cell_type": "code",
   "execution_count": null,
   "metadata": {
    "scrolled": false
   },
   "outputs": [],
   "source": [
    "import holoviews as hv\n",
    "import numpy as np\n",
    "\n",
    "hv.extension(\"bokeh\")\n",
    "\n",
    "hv.Histogram(np.histogram(working_t, 20)).opts(\n",
    "    width=400,\n",
    "    height=400,\n",
    "    ylabel=\"Frecuencia\",\n",
    "    xlabel=\"Proporción de tiempo del sistema en funcionamiento\",\n",
    "    title=\"Histograma de la simulación: máquinas\",\n",
    "    xlim=(0, 1)\n",
    ")"
   ]
  },
  {
   "cell_type": "code",
   "execution_count": null,
   "metadata": {},
   "outputs": [],
   "source": [
    "hv.Histogram(np.histogram(all_rep_working_t, 20)).opts(\n",
    "    width=400,\n",
    "    height=400,\n",
    "    ylabel=\"Frecuencia\",\n",
    "    xlabel=\"Proporción de tiempo trabajando de manera simultánea todos los operarios\",\n",
    "    title=\"Histograma de la simulación: operarios\",\n",
    "    xlim=(0, 1)\n",
    ")"
   ]
  },
  {
   "cell_type": "code",
   "execution_count": null,
   "metadata": {
    "scrolled": true
   },
   "outputs": [],
   "source": [
    "n_sims = 1000\n",
    "working_t = []\n",
    "all_rep_working_t = []\n",
    "for _ in range(n_sims):\n",
    "    working_time, all_repairmen_working_time = simulate(n_repairmen=4)\n",
    "    working_t.append(working_time)\n",
    "    all_rep_working_t.append(all_repairmen_working_time)"
   ]
  },
  {
   "cell_type": "code",
   "execution_count": null,
   "metadata": {},
   "outputs": [],
   "source": [
    "mean_wt = mean(working_t)\n",
    "var_wt = variance(working_t)\n",
    "print(\"Media tiempo funcionando:\", mean_wt)\n",
    "print(\"Varianza tiempo funcionando:\", var_wt)\n",
    "\n",
    "mean_rt = mean(all_rep_working_t)\n",
    "var_rt = variance(all_rep_working_t)\n",
    "print(\"Media tiempo trabajadores a la vez:\", mean_rt)\n",
    "print(\"Varianza tiempo trabajadores a la vez:\", var_rt)\n",
    "\n",
    "print(\"Proporción de mejora del tiempo en el que el sistema funciona:\", mean_wt/mean_wt_orig)"
   ]
  },
  {
   "cell_type": "code",
   "execution_count": null,
   "metadata": {
    "scrolled": false
   },
   "outputs": [],
   "source": [
    "hv.Histogram(np.histogram(working_t, 20)).opts(\n",
    "    width=400,\n",
    "    height=400,\n",
    "    ylabel=\"Frecuencia\",\n",
    "    xlabel=\"Proporción de tiempo del sistema en funcionamiento\",\n",
    "    title=\"Histograma de la simulación: máquinas\",\n",
    "    xlim=(0, 1)\n",
    ")"
   ]
  },
  {
   "cell_type": "code",
   "execution_count": null,
   "metadata": {},
   "outputs": [],
   "source": [
    "hv.Histogram(np.histogram(all_rep_working_t, 20)).opts(\n",
    "    width=400,\n",
    "    height=400,\n",
    "    ylabel=\"Frecuencia\",\n",
    "    xlabel=\"Proporción de tiempo trabajando de manera simultánea todos los operarios\",\n",
    "    title=\"Histograma de la simulación: operarios\",\n",
    "    xlim=(0, 1)\n",
    ")"
   ]
  },
  {
   "cell_type": "code",
   "execution_count": null,
   "metadata": {
    "scrolled": true
   },
   "outputs": [],
   "source": [
    "n_sims = 1000\n",
    "working_t = []\n",
    "all_rep_working_t = []\n",
    "for _ in range(n_sims):\n",
    "    working_time, all_repairmen_working_time = simulate(n_waiting_machines=5)\n",
    "    working_t.append(working_time)\n",
    "    all_rep_working_t.append(all_repairmen_working_time)"
   ]
  },
  {
   "cell_type": "code",
   "execution_count": null,
   "metadata": {},
   "outputs": [],
   "source": [
    "mean_wt = mean(working_t)\n",
    "var_wt = variance(working_t)\n",
    "print(\"Media tiempo funcionando:\", mean_wt)\n",
    "print(\"Varianza tiempo funcionando:\", var_wt)\n",
    "\n",
    "mean_rt = mean(all_rep_working_t)\n",
    "var_rt = variance(all_rep_working_t)\n",
    "print(\"Media tiempo trabajadores a la vez:\", mean_rt)\n",
    "print(\"Varianza tiempo trabajadores a la vez:\", var_rt)\n",
    "\n",
    "print(\"Proporción de mejora del tiempo en el que el sistema funciona:\", mean_wt/mean_wt_orig)"
   ]
  },
  {
   "cell_type": "code",
   "execution_count": null,
   "metadata": {
    "scrolled": false
   },
   "outputs": [],
   "source": [
    "hv.Histogram(np.histogram(working_t, 20)).opts(\n",
    "    width=400,\n",
    "    height=400,\n",
    "    ylabel=\"Frecuencia\",\n",
    "    xlabel=\"Proporción de tiempo del sistema en funcionamiento\",\n",
    "    title=\"Histograma de la simulación: máquinas\",\n",
    "    xlim=(0, 1)\n",
    ")"
   ]
  },
  {
   "cell_type": "code",
   "execution_count": null,
   "metadata": {},
   "outputs": [],
   "source": [
    "hv.Histogram(np.histogram(all_rep_working_t, 20)).opts(\n",
    "    width=400,\n",
    "    height=400,\n",
    "    ylabel=\"Frecuencia\",\n",
    "    xlabel=\"Proporción de tiempo trabajando de manera simultánea todos los operarios\",\n",
    "    title=\"Histograma de la simulación: operarios\",\n",
    "    xlim=(0, 1)\n",
    ")"
   ]
  },
  {
   "cell_type": "code",
   "execution_count": null,
   "metadata": {
    "scrolled": true
   },
   "outputs": [],
   "source": [
    "n_sims = 1000\n",
    "working_t = []\n",
    "all_rep_working_t = []\n",
    "for _ in range(n_sims):\n",
    "    working_time, all_repairmen_working_time = simulate(n_repairmen=4, n_waiting_machines=5)\n",
    "    working_t.append(working_time)\n",
    "    all_rep_working_t.append(all_repairmen_working_time)"
   ]
  },
  {
   "cell_type": "code",
   "execution_count": null,
   "metadata": {},
   "outputs": [],
   "source": [
    "mean_wt = mean(working_t)\n",
    "var_wt = variance(working_t)\n",
    "print(\"Media tiempo funcionando:\", mean_wt)\n",
    "print(\"Varianza tiempo funcionando:\", var_wt)\n",
    "\n",
    "mean_rt = mean(all_rep_working_t)\n",
    "var_rt = variance(all_rep_working_t)\n",
    "print(\"Media tiempo trabajadores a la vez:\", mean_rt)\n",
    "print(\"Varianza tiempo trabajadores a la vez:\", var_rt)\n",
    "\n",
    "print(\"Proporción de mejora del tiempo en el que el sistema funciona:\", mean_wt/mean_wt_orig)"
   ]
  },
  {
   "cell_type": "code",
   "execution_count": null,
   "metadata": {
    "scrolled": false
   },
   "outputs": [],
   "source": [
    "hv.Histogram(np.histogram(working_t, 20)).opts(\n",
    "    width=400,\n",
    "    height=400,\n",
    "    ylabel=\"Frecuencia\",\n",
    "    xlabel=\"Proporción de tiempo del sistema en funcionamiento\",\n",
    "    title=\"Histograma de la simulación: máquinas\",\n",
    "    xlim=(0, 1)\n",
    ")"
   ]
  },
  {
   "cell_type": "code",
   "execution_count": null,
   "metadata": {},
   "outputs": [],
   "source": [
    "hv.Histogram(np.histogram(all_rep_working_t, 20)).opts(\n",
    "    width=400,\n",
    "    height=400,\n",
    "    ylabel=\"Frecuencia\",\n",
    "    xlabel=\"Proporción de tiempo trabajando de manera simultánea todos los operarios\",\n",
    "    title=\"Histograma de la simulación: operarios\",\n",
    "    xlim=(0, 1)\n",
    ")"
   ]
  }
 ],
 "metadata": {
  "kernelspec": {
   "display_name": "Python 3",
   "language": "python",
   "name": "python3"
  },
  "language_info": {
   "codemirror_mode": {
    "name": "ipython",
    "version": 3
   },
   "file_extension": ".py",
   "mimetype": "text/x-python",
   "name": "python",
   "nbconvert_exporter": "python",
   "pygments_lexer": "ipython3",
   "version": "3.7.6"
  }
 },
 "nbformat": 4,
 "nbformat_minor": 4
}
